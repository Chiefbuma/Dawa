{
 "cells": [
  {
   "cell_type": "code",
   "execution_count": 1,
   "metadata": {},
   "outputs": [],
   "source": [
    "import pandas as pd\n",
    "from sklearn.model_selection import train_test_split\n",
    "from sklearn.linear_model import LinearRegression\n",
    "\n",
    "# Define the file path\n",
    "file_path = r'C:\\Users\\Buma\\Desktop\\Alx\\matches.xlsx'\n",
    "\n",
    "# Load the dataset\n",
    "df = pd.read_excel(file_path)\n"
   ]
  },
  {
   "cell_type": "code",
   "execution_count": null,
   "metadata": {},
   "outputs": [],
   "source": []
  },
  {
   "cell_type": "code",
   "execution_count": 2,
   "metadata": {},
   "outputs": [
    {
     "name": "stdout",
     "output_type": "stream",
     "text": [
      "Index(['id', 'season', 'city', 'date', 'team1', 'team2', 'toss_winner',\n",
      "       'toss_decision', 'result', 'dl_applied', 'winner', 'win_by_runs',\n",
      "       'win_by_wickets', 'player_of_match', 'venue', 'umpire1', 'umpire2'],\n",
      "      dtype='object')\n"
     ]
    }
   ],
   "source": [
    "print(df.columns)"
   ]
  },
  {
   "cell_type": "code",
   "execution_count": 3,
   "metadata": {},
   "outputs": [
    {
     "name": "stdout",
     "output_type": "stream",
     "text": [
      "Proportion of matches where DL method was applied: 2.52%\n"
     ]
    }
   ],
   "source": [
    "import pandas as pd\n",
    "\n",
    "# Define the file path\n",
    "file_path = r'C:\\Users\\Buma\\Desktop\\Alx\\matches.xlsx'\n",
    "\n",
    "# Load the dataset\n",
    "df = pd.read_excel(file_path)\n",
    "\n",
    "# Calculate the proportion of matches with DL method applied\n",
    "dl_applied_proportion = df['dl_applied'].mean()\n",
    "\n",
    "# Convert to percentage\n",
    "dl_applied_percentage = dl_applied_proportion * 100\n",
    "\n",
    "print(f\"Proportion of matches where DL method was applied: {dl_applied_percentage:.2f}%\")\n"
   ]
  },
  {
   "cell_type": "code",
   "execution_count": 4,
   "metadata": {},
   "outputs": [
    {
     "name": "stdout",
     "output_type": "stream",
     "text": [
      "Proportion of matches won by the team that batted first: 44.65%\n"
     ]
    }
   ],
   "source": [
    "import pandas as pd\n",
    "\n",
    "# Define the file path\n",
    "file_path = r'C:\\Users\\Buma\\Desktop\\Alx\\matches.xlsx'\n",
    "\n",
    "# Load the dataset\n",
    "df = pd.read_excel(file_path)\n",
    "\n",
    "# Determine the proportion of matches won by the team that batted first\n",
    "# Check where the winner is the same as team1\n",
    "won_by_team1 = df['team1'] == df['winner']\n",
    "proportion_won_by_team1 = won_by_team1.mean()\n",
    "\n",
    "# Convert to percentage\n",
    "proportion_won_by_team1_percentage = proportion_won_by_team1 * 100\n",
    "\n",
    "print(f\"Proportion of matches won by the team that batted first: {proportion_won_by_team1_percentage:.2f}%\")\n"
   ]
  },
  {
   "cell_type": "code",
   "execution_count": 5,
   "metadata": {},
   "outputs": [
    {
     "name": "stdout",
     "output_type": "stream",
     "text": [
      "Number of April games: 297\n",
      "Number of choices to field first: 363\n"
     ]
    }
   ],
   "source": [
    "import pandas as pd\n",
    "\n",
    "# Define the file path\n",
    "file_path = r'C:\\Users\\Buma\\Desktop\\Alx\\matches.xlsx'\n",
    "\n",
    "# Load the dataset\n",
    "df = pd.read_excel(file_path)\n",
    "\n",
    "# Create features\n",
    "df['played_in_april'] = pd.to_datetime(df['date']).dt.month == 4\n",
    "df['toss_decision_field'] = df['toss_decision'] == 'field'\n",
    "df['dl_applied'] = df['dl_applied'] == 1\n",
    "\n",
    "# Count the occurrences\n",
    "april_games_count = df['played_in_april'].sum()\n",
    "field_first_count = df['toss_decision_field'].sum()\n",
    "\n",
    "print(f\"Number of April games: {april_games_count}\")\n",
    "print(f\"Number of choices to field first: {field_first_count}\")\n"
   ]
  },
  {
   "cell_type": "code",
   "execution_count": 6,
   "metadata": {},
   "outputs": [
    {
     "name": "stderr",
     "output_type": "stream",
     "text": [
      "c:\\Users\\Buma\\AppData\\Local\\miniconda3\\envs\\Datascience\\Lib\\site-packages\\sklearn\\metrics\\_classification.py:386: UserWarning: A single label was found in 'y_true' and 'y_pred'. For the confusion matrix to have the correct shape, use the 'labels' parameter to pass all known labels.\n",
      "  warnings.warn(\n"
     ]
    },
    {
     "name": "stdout",
     "output_type": "stream",
     "text": [
      "Confusion Matrix:\n",
      "[[159]]\n"
     ]
    },
    {
     "ename": "ValueError",
     "evalue": "not enough values to unpack (expected 4, got 1)",
     "output_type": "error",
     "traceback": [
      "\u001b[1;31m---------------------------------------------------------------------------\u001b[0m",
      "\u001b[1;31mValueError\u001b[0m                                Traceback (most recent call last)",
      "Cell \u001b[1;32mIn[6], line 43\u001b[0m\n\u001b[0;32m     40\u001b[0m \u001b[38;5;28mprint\u001b[39m(cm)\n\u001b[0;32m     42\u001b[0m \u001b[38;5;66;03m# Calculate metrics\u001b[39;00m\n\u001b[1;32m---> 43\u001b[0m TN, FP, FN, TP \u001b[38;5;241m=\u001b[39m cm\u001b[38;5;241m.\u001b[39mravel()\n\u001b[0;32m     45\u001b[0m \u001b[38;5;66;03m# Interpretation based on the confusion matrix\u001b[39;00m\n\u001b[0;32m     46\u001b[0m \u001b[38;5;28mprint\u001b[39m(\u001b[38;5;124mf\u001b[39m\u001b[38;5;124m\"\u001b[39m\u001b[38;5;124mTrue Negatives: \u001b[39m\u001b[38;5;132;01m{\u001b[39;00mTN\u001b[38;5;132;01m}\u001b[39;00m\u001b[38;5;124m\"\u001b[39m)\n",
      "\u001b[1;31mValueError\u001b[0m: not enough values to unpack (expected 4, got 1)"
     ]
    }
   ],
   "source": [
    "import pandas as pd\n",
    "from sklearn.model_selection import train_test_split\n",
    "from sklearn.tree import DecisionTreeClassifier\n",
    "from sklearn.metrics import confusion_matrix\n",
    "import numpy as np\n",
    "\n",
    "# Define the file path\n",
    "file_path = r'C:\\Users\\Buma\\Desktop\\Alx\\matches.xlsx'\n",
    "\n",
    "# Load the dataset\n",
    "df = pd.read_excel(file_path)\n",
    "\n",
    "# Create features\n",
    "df['played_in_april'] = pd.to_datetime(df['date']).dt.month == 4\n",
    "df['toss_decision_field'] = df['toss_decision'] == 'field'\n",
    "df['dl_applied'] = df['dl_applied'] == 1\n",
    "\n",
    "# Define the target variable (close match: win by 20 runs or less, or 4 wickets or less)\n",
    "df['close_match'] = (df['win_by_runs'] <= 20) | (df['win_by_wickets'] <= 4)\n",
    "\n",
    "# Define features and target\n",
    "X = df[['played_in_april', 'toss_decision_field', 'dl_applied']]\n",
    "y = df['close_match']\n",
    "\n",
    "# Split the data\n",
    "X_train, X_test, y_train, y_test = train_test_split(X, y, test_size=0.25, random_state=999)\n",
    "\n",
    "# Train the Decision Tree Classifier\n",
    "clf = DecisionTreeClassifier(random_state=999)\n",
    "clf.fit(X_train, y_train)\n",
    "\n",
    "# Predict on test data\n",
    "y_pred = clf.predict(X_test)\n",
    "\n",
    "# Generate confusion matrix\n",
    "cm = confusion_matrix(y_test, y_pred)\n",
    "\n",
    "# Display confusion matrix\n",
    "print(\"Confusion Matrix:\")\n",
    "print(cm)\n",
    "\n",
    "# Calculate metrics\n",
    "TN, FP, FN, TP = cm.ravel()\n",
    "\n",
    "# Interpretation based on the confusion matrix\n",
    "print(f\"True Negatives: {TN}\")\n",
    "print(f\"False Positives: {FP}\")\n",
    "print(f\"False Negatives: {FN}\")\n",
    "print(f\"True Positives: {TP}\")\n"
   ]
  },
  {
   "cell_type": "code",
   "execution_count": 7,
   "metadata": {},
   "outputs": [
    {
     "name": "stdout",
     "output_type": "stream",
     "text": [
      "Confusion Matrix:\n",
      "[[159]]\n",
      "The confusion matrix is not 2x2. Please check the classification setup.\n"
     ]
    },
    {
     "name": "stderr",
     "output_type": "stream",
     "text": [
      "c:\\Users\\Buma\\AppData\\Local\\miniconda3\\envs\\Datascience\\Lib\\site-packages\\sklearn\\metrics\\_classification.py:386: UserWarning: A single label was found in 'y_true' and 'y_pred'. For the confusion matrix to have the correct shape, use the 'labels' parameter to pass all known labels.\n",
      "  warnings.warn(\n"
     ]
    }
   ],
   "source": [
    "import pandas as pd\n",
    "from sklearn.model_selection import train_test_split\n",
    "from sklearn.tree import DecisionTreeClassifier\n",
    "from sklearn.metrics import confusion_matrix\n",
    "\n",
    "# Define the file path\n",
    "file_path = r'C:\\Users\\Buma\\Desktop\\Alx\\matches.xlsx'\n",
    "\n",
    "# Load the dataset\n",
    "df = pd.read_excel(file_path)\n",
    "\n",
    "# Create features\n",
    "df['played_in_april'] = pd.to_datetime(df['date']).dt.month == 4\n",
    "df['toss_decision_field'] = df['toss_decision'] == 'field'\n",
    "df['dl_applied'] = df['dl_applied'] == 1\n",
    "\n",
    "# Define the target variable (close match: win by 20 runs or less, or 4 wickets or less)\n",
    "df['close_match'] = (df['win_by_runs'] <= 20) | (df['win_by_wickets'] <= 4)\n",
    "\n",
    "# Define features and target\n",
    "X = df[['played_in_april', 'toss_decision_field', 'dl_applied']]\n",
    "y = df['close_match']\n",
    "\n",
    "# Split the data\n",
    "X_train, X_test, y_train, y_test = train_test_split(X, y, test_size=0.25, random_state=999)\n",
    "\n",
    "# Train the Decision Tree Classifier\n",
    "clf = DecisionTreeClassifier(random_state=999)\n",
    "clf.fit(X_train, y_train)\n",
    "\n",
    "# Predict on test data\n",
    "y_pred = clf.predict(X_test)\n",
    "\n",
    "# Generate confusion matrix\n",
    "cm = confusion_matrix(y_test, y_pred)\n",
    "\n",
    "# Check the shape of the confusion matrix\n",
    "print(\"Confusion Matrix:\")\n",
    "print(cm)\n",
    "\n",
    "# Handle binary classification confusion matrix\n",
    "if cm.shape == (2, 2):\n",
    "    TN, FP, FN, TP = cm.ravel()\n",
    "    print(f\"True Negatives: {TN}\")\n",
    "    print(f\"False Positives: {FP}\")\n",
    "    print(f\"False Negatives: {FN}\")\n",
    "    print(f\"True Positives: {TP}\")\n",
    "else:\n",
    "    print(\"The confusion matrix is not 2x2. Please check the classification setup.\")\n"
   ]
  }
 ],
 "metadata": {
  "kernelspec": {
   "display_name": "Python 3",
   "language": "python",
   "name": "python3"
  },
  "language_info": {
   "codemirror_mode": {
    "name": "ipython",
    "version": 3
   },
   "file_extension": ".py",
   "mimetype": "text/x-python",
   "name": "python",
   "nbconvert_exporter": "python",
   "pygments_lexer": "ipython3",
   "version": "3.12.0"
  }
 },
 "nbformat": 4,
 "nbformat_minor": 2
}
