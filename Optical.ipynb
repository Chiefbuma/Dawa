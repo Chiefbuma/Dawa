{
 "cells": [
  {
   "cell_type": "code",
   "execution_count": 1,
   "metadata": {},
   "outputs": [
    {
     "name": "stderr",
     "output_type": "stream",
     "text": [
      "C:\\Users\\Buma\\AppData\\Local\\Temp\\ipykernel_19436\\2818480671.py:8: DtypeWarning: Columns (22,31) have mixed types. Specify dtype option on import or set low_memory=False.\n",
      "  combined_df = pd.concat([pd.read_csv(f) for f in csv_files], ignore_index=True)\n",
      "C:\\Users\\Buma\\AppData\\Local\\Temp\\ipykernel_19436\\2818480671.py:8: DtypeWarning: Columns (8,9,22,31) have mixed types. Specify dtype option on import or set low_memory=False.\n",
      "  combined_df = pd.concat([pd.read_csv(f) for f in csv_files], ignore_index=True)\n",
      "C:\\Users\\Buma\\AppData\\Local\\Temp\\ipykernel_19436\\2818480671.py:8: DtypeWarning: Columns (2,5,6,10,22) have mixed types. Specify dtype option on import or set low_memory=False.\n",
      "  combined_df = pd.concat([pd.read_csv(f) for f in csv_files], ignore_index=True)\n",
      "C:\\Users\\Buma\\AppData\\Local\\Temp\\ipykernel_19436\\2818480671.py:8: DtypeWarning: Columns (7,22) have mixed types. Specify dtype option on import or set low_memory=False.\n",
      "  combined_df = pd.concat([pd.read_csv(f) for f in csv_files], ignore_index=True)\n",
      "C:\\Users\\Buma\\AppData\\Local\\Temp\\ipykernel_19436\\2818480671.py:8: DtypeWarning: Columns (22) have mixed types. Specify dtype option on import or set low_memory=False.\n",
      "  combined_df = pd.concat([pd.read_csv(f) for f in csv_files], ignore_index=True)\n",
      "C:\\Users\\Buma\\AppData\\Local\\Temp\\ipykernel_19436\\2818480671.py:8: DtypeWarning: Columns (7,8,9,22,31) have mixed types. Specify dtype option on import or set low_memory=False.\n",
      "  combined_df = pd.concat([pd.read_csv(f) for f in csv_files], ignore_index=True)\n",
      "C:\\Users\\Buma\\AppData\\Local\\Temp\\ipykernel_19436\\2818480671.py:8: DtypeWarning: Columns (22) have mixed types. Specify dtype option on import or set low_memory=False.\n",
      "  combined_df = pd.concat([pd.read_csv(f) for f in csv_files], ignore_index=True)\n",
      "C:\\Users\\Buma\\AppData\\Local\\Temp\\ipykernel_19436\\2818480671.py:8: DtypeWarning: Columns (22,52) have mixed types. Specify dtype option on import or set low_memory=False.\n",
      "  combined_df = pd.concat([pd.read_csv(f) for f in csv_files], ignore_index=True)\n",
      "C:\\Users\\Buma\\AppData\\Local\\Temp\\ipykernel_19436\\2818480671.py:8: DtypeWarning: Columns (10,22) have mixed types. Specify dtype option on import or set low_memory=False.\n",
      "  combined_df = pd.concat([pd.read_csv(f) for f in csv_files], ignore_index=True)\n",
      "C:\\Users\\Buma\\AppData\\Local\\Temp\\ipykernel_19436\\2818480671.py:8: DtypeWarning: Columns (22) have mixed types. Specify dtype option on import or set low_memory=False.\n",
      "  combined_df = pd.concat([pd.read_csv(f) for f in csv_files], ignore_index=True)\n",
      "C:\\Users\\Buma\\AppData\\Local\\Temp\\ipykernel_19436\\2818480671.py:8: DtypeWarning: Columns (7,8,9,22,52) have mixed types. Specify dtype option on import or set low_memory=False.\n",
      "  combined_df = pd.concat([pd.read_csv(f) for f in csv_files], ignore_index=True)\n"
     ]
    }
   ],
   "source": [
    "import pandas as pd\n",
    "import glob\n",
    "\n",
    "# Get a list of all CSV files in the directory\n",
    "csv_files = glob.glob('C:/Users/Buma/Desktop/Opticalll/*.csv')\n",
    "\n",
    "# Read and append all CSV files together\n",
    "combined_df = pd.concat([pd.read_csv(f) for f in csv_files], ignore_index=True)\n",
    "\n",
    "# Save the combined DataFrame to a new CSV file (optional)\n",
    "combined_df.to_csv('C:/Users/Buma/Desktop/Opticalll/combined_output.csv', index=False)\n"
   ]
  }
 ],
 "metadata": {
  "kernelspec": {
   "display_name": "Python 3",
   "language": "python",
   "name": "python3"
  },
  "language_info": {
   "codemirror_mode": {
    "name": "ipython",
    "version": 3
   },
   "file_extension": ".py",
   "mimetype": "text/x-python",
   "name": "python",
   "nbconvert_exporter": "python",
   "pygments_lexer": "ipython3",
   "version": "3.12.0"
  }
 },
 "nbformat": 4,
 "nbformat_minor": 2
}
