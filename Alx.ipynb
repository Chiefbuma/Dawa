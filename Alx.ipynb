{
 "cells": [
  {
   "cell_type": "code",
   "execution_count": 3,
   "metadata": {},
   "outputs": [
    {
     "name": "stdout",
     "output_type": "stream",
     "text": [
      "The intercept of the model is: 3.2941036551619103\n"
     ]
    }
   ],
   "source": [
    "import pandas as pd\n",
    "from sklearn.model_selection import train_test_split\n",
    "from sklearn.linear_model import LinearRegression\n",
    "\n",
    "# Define the file path\n",
    "file_path = r'C:\\Users\\Buma\\Desktop\\Alx\\rand-dollar.csv'\n",
    "\n",
    "# Load the dataset\n",
    "df = pd.read_csv(file_path, index_col=0)\n",
    "\n",
    "# Separate features (X) and target (y)\n",
    "X = df[['Value of Exports (ZAR)']]\n",
    "y = df['ZAR/USD']\n",
    "\n",
    "# Split the data into training and test sets\n",
    "X_train, X_test, y_train, y_test = train_test_split(X, y, test_size=0.2, shuffle=False)\n",
    "\n",
    "# Train a simple linear regression model\n",
    "lm = LinearRegression()\n",
    "lm.fit(X_train, y_train)\n",
    "\n",
    "# Get the intercept of the model\n",
    "intercept = lm.intercept_\n",
    "print(f\"The intercept of the model is: {intercept}\")\n"
   ]
  },
  {
   "cell_type": "code",
   "execution_count": 4,
   "metadata": {},
   "outputs": [
    {
     "name": "stdout",
     "output_type": "stream",
     "text": [
      "The slope of the model is: 8.677126339792249e-05\n"
     ]
    }
   ],
   "source": [
    "# Get the coefficient (slope) of the model\n",
    "slope = lm.coef_[0]\n",
    "print(f\"The slope of the model is: {slope}\")\n"
   ]
  },
  {
   "cell_type": "code",
   "execution_count": 7,
   "metadata": {},
   "outputs": [
    {
     "name": "stdout",
     "output_type": "stream",
     "text": [
      "The predicted exchange rate is: 867715.9280828792\n"
     ]
    }
   ],
   "source": [
    "# Example intercept and slope (replace these with actual values from your model)\n",
    "intercept = 3.2941036551619103 # replace with actual intercept value\n",
    "slope = 8.67712633979224  # replace with actual slope value\n",
    "\n",
    "# Value of exports\n",
    "exports_value = 100000  # R100,000\n",
    "\n",
    "# Predict the ZAR/USD exchange rate\n",
    "predicted_exchange_rate = intercept + (slope * exports_value)\n",
    "print(f\"The predicted exchange rate is: {predicted_exchange_rate}\")\n"
   ]
  },
  {
   "cell_type": "code",
   "execution_count": 6,
   "metadata": {},
   "outputs": [
    {
     "name": "stdout",
     "output_type": "stream",
     "text": [
      "Intercept: 3.2941036551619103\n",
      "Slope: 8.677126339792249e-05\n",
      "The predicted exchange rate is: 11.97122999495416\n"
     ]
    }
   ],
   "source": [
    "import pandas as pd\n",
    "from sklearn.model_selection import train_test_split\n",
    "from sklearn.linear_model import LinearRegression\n",
    "\n",
    "# Define the file path\n",
    "file_path = r'C:\\Users\\Buma\\Desktop\\Alx\\rand-dollar.csv'\n",
    "\n",
    "# Load the dataset\n",
    "df = pd.read_csv(file_path, index_col=0)\n",
    "\n",
    "# Separate features (X) and target (y)\n",
    "X = df[['Value of Exports (ZAR)']]\n",
    "y = df['ZAR/USD']\n",
    "\n",
    "# Split the data into training and test sets\n",
    "X_train, X_test, y_train, y_test = train_test_split(X, y, test_size=0.2, shuffle=False)\n",
    "\n",
    "# Train a simple linear regression model\n",
    "lm = LinearRegression()\n",
    "lm.fit(X_train, y_train)\n",
    "\n",
    "# Get the intercept and slope of the model\n",
    "intercept = lm.intercept_\n",
    "slope = lm.coef_[0]\n",
    "\n",
    "# Print the intercept and slope\n",
    "print(f\"Intercept: {intercept}\")\n",
    "print(f\"Slope: {slope}\")\n",
    "\n",
    "# Predict the ZAR/USD exchange rate for exports of R100,000\n",
    "exports_value = 100000\n",
    "predicted_exchange_rate = intercept + (slope * exports_value)\n",
    "print(f\"The predicted exchange rate is: {predicted_exchange_rate}\")\n",
    "\n",
    "\n"
   ]
  },
  {
   "cell_type": "code",
   "execution_count": 8,
   "metadata": {},
   "outputs": [
    {
     "name": "stdout",
     "output_type": "stream",
     "text": [
      "The Mean Squared Error of the model on the test set is: 8.221852113297063\n"
     ]
    }
   ],
   "source": [
    "from sklearn.metrics import mean_squared_error\n",
    "\n",
    "# Make predictions on the test set\n",
    "y_pred = lm.predict(X_test)\n",
    "\n",
    "# Calculate the Mean Squared Error\n",
    "mse = mean_squared_error(y_test, y_pred)\n",
    "print(f\"The Mean Squared Error of the model on the test set is: {mse}\")\n"
   ]
  },
  {
   "cell_type": "code",
   "execution_count": 9,
   "metadata": {},
   "outputs": [
    {
     "name": "stdout",
     "output_type": "stream",
     "text": [
      "The R-squared value of the model on the test set is: -8.448868004702911\n"
     ]
    }
   ],
   "source": [
    "from sklearn.metrics import r2_score\n",
    "\n",
    "# Make predictions on the test set\n",
    "y_pred = lm.predict(X_test)\n",
    "\n",
    "# Calculate the R-squared value\n",
    "r_squared = r2_score(y_test, y_pred)\n",
    "print(f\"The R-squared value of the model on the test set is: {r_squared}\")\n"
   ]
  },
  {
   "cell_type": "code",
   "execution_count": 16,
   "metadata": {},
   "outputs": [
    {
     "name": "stdout",
     "output_type": "stream",
     "text": [
      "The predicted exchange rate for August 2017 is: 895475.5303553523\n"
     ]
    }
   ],
   "source": [
    "# Define the export value for August 2017 (replace with actual value from dataset)\n",
    "exports_value_august_2017 =103199.17 # e.g., R100,000  7799.19\t103199.17\n",
    "\n",
    "\n",
    "# Predict the ZAR/USD exchange rate for August 2017\n",
    "predicted_exchange_rate_august_2017 = intercept + (slope * exports_value_august_2017)\n",
    "print(f\"The predicted exchange rate for August 2017 is: {predicted_exchange_rate_august_2017}\")\n"
   ]
  },
  {
   "cell_type": "code",
   "execution_count": 18,
   "metadata": {},
   "outputs": [
    {
     "name": "stdout",
     "output_type": "stream",
     "text": [
      "The predicted exchange rate for August 2017 is: 895475.5303553523\n"
     ]
    }
   ],
   "source": [
    "import pandas as pd\n",
    "from sklearn.linear_model import LinearRegression\n",
    "\n",
    "# Assume you have already trained your model and have the intercept and slope values\n",
    "# For demonstration purposes, let's say:\n",
    "intercept = 3.2941036551619103 # replace with actual intercept value\n",
    "slope = 8.67712633979224      # Replace with the actual slope\n",
    "\n",
    "# Load the dataset\n",
    "file_path = r'C:\\Users\\Buma\\Desktop\\Alx\\rand-dollar.csv'\n",
    "df = pd.read_csv(file_path, index_col=0)\n",
    "\n",
    "\n",
    "\n",
    "\n",
    "export_value_august_2017 = 103199.17 \n",
    "\n",
    "# Predict the ZAR/USD exchange rate for August 2017\n",
    "predicted_exchange_rate = intercept + (slope * export_value_august_2017)\n",
    "print(f\"The predicted exchange rate for August 2017 is: {predicted_exchange_rate}\")\n"
   ]
  },
  {
   "cell_type": "code",
   "execution_count": 19,
   "metadata": {},
   "outputs": [
    {
     "name": "stdout",
     "output_type": "stream",
     "text": [
      "ZAR/USD                                    1.000000\n",
      "Value of Exports (USD)                    -0.335780\n",
      "Value of Exports (ZAR)                     0.784756\n",
      "Value of Imports (USD)                    -0.350606\n",
      "Value of Imports (ZAR)                     0.791994\n",
      "IMF Reserve Position (USD)                 0.855311\n",
      "Foreign Exchange (USD)                     0.317203\n",
      "Claims on Non-residents (USD)             -0.727278\n",
      "Liabilities to Non-residents (USD)        -0.472230\n",
      "Savings Rate                               0.041555\n",
      "Lending Rate                              -0.056806\n",
      "Government Bonds                           0.191455\n",
      "Financial Market Prices, Equities Index    0.139858\n",
      "Consumer Price Index                       0.872660\n",
      "Name: ZAR/USD, dtype: float64\n",
      "The variable with the weakest linear relationship with the ZAR/USD exchange rate is: Claims on Non-residents (USD)\n"
     ]
    }
   ],
   "source": [
    "import pandas as pd\n",
    "\n",
    "# Load the dataset\n",
    "file_path = r'C:\\Users\\Buma\\Desktop\\Alx\\rand-dollar.csv'\n",
    "df = pd.read_csv(file_path, index_col=0)\n",
    "\n",
    "# Calculate the correlation matrix\n",
    "correlation_matrix = df.corr()\n",
    "\n",
    "# Extract the correlations with 'ZAR/USD'\n",
    "zar_usd_correlations = correlation_matrix['ZAR/USD']\n",
    "\n",
    "# Display the correlations\n",
    "print(zar_usd_correlations)\n",
    "\n",
    "# Find the variable with the weakest linear relationship\n",
    "weakest_correlation = zar_usd_correlations.drop('ZAR/USD').idxmin()\n",
    "print(f\"The variable with the weakest linear relationship with the ZAR/USD exchange rate is: {weakest_correlation}\")\n"
   ]
  },
  {
   "cell_type": "code",
   "execution_count": 20,
   "metadata": {},
   "outputs": [
    {
     "name": "stdout",
     "output_type": "stream",
     "text": [
      "ZAR/USD                                    1.000000\n",
      "Value of Exports (USD)                    -0.335780\n",
      "Value of Exports (ZAR)                     0.784756\n",
      "Value of Imports (USD)                    -0.350606\n",
      "Value of Imports (ZAR)                     0.791994\n",
      "IMF Reserve Position (USD)                 0.855311\n",
      "Foreign Exchange (USD)                     0.317203\n",
      "Claims on Non-residents (USD)             -0.727278\n",
      "Liabilities to Non-residents (USD)        -0.472230\n",
      "Savings Rate                               0.041555\n",
      "Lending Rate                              -0.056806\n",
      "Government Bonds                           0.191455\n",
      "Financial Market Prices, Equities Index    0.139858\n",
      "Consumer Price Index                       0.872660\n",
      "Name: ZAR/USD, dtype: float64\n",
      "The variable with the strongest linear relationship with the ZAR/USD exchange rate is: Consumer Price Index\n"
     ]
    }
   ],
   "source": [
    "import pandas as pd\n",
    "\n",
    "# Load the dataset\n",
    "file_path = r'C:\\Users\\Buma\\Desktop\\Alx\\rand-dollar.csv'\n",
    "df = pd.read_csv(file_path, index_col=0)\n",
    "\n",
    "# Calculate the correlation matrix\n",
    "correlation_matrix = df.corr()\n",
    "\n",
    "# Extract the correlations with 'ZAR/USD'\n",
    "zar_usd_correlations = correlation_matrix['ZAR/USD']\n",
    "\n",
    "# Display the correlations\n",
    "print(zar_usd_correlations)\n",
    "\n",
    "# Find the variable with the strongest linear relationship\n",
    "strongest_correlation = zar_usd_correlations.drop('ZAR/USD').abs().idxmax()\n",
    "print(f\"The variable with the strongest linear relationship with the ZAR/USD exchange rate is: {strongest_correlation}\")\n"
   ]
  },
  {
   "cell_type": "code",
   "execution_count": 21,
   "metadata": {},
   "outputs": [
    {
     "name": "stdout",
     "output_type": "stream",
     "text": [
      "The training MSE of the Ridge model is: 0.04023298827614495\n"
     ]
    }
   ],
   "source": [
    "import pandas as pd\n",
    "from sklearn.model_selection import train_test_split\n",
    "from sklearn.preprocessing import StandardScaler\n",
    "from sklearn.linear_model import Ridge\n",
    "from sklearn.metrics import mean_squared_error\n",
    "\n",
    "# Load the dataset\n",
    "file_path = r'C:\\Users\\Buma\\Desktop\\Alx\\rand-dollar.csv'\n",
    "df = pd.read_csv(file_path, index_col=0)\n",
    "\n",
    "# Separate features (X) and target (y)\n",
    "X = df.drop(columns='ZAR/USD')\n",
    "y = df['ZAR/USD']\n",
    "\n",
    "# Standardize the features\n",
    "scaler = StandardScaler()\n",
    "X_standardized = scaler.fit_transform(X)\n",
    "\n",
    "# Create train/test split (chronological 80/20 split)\n",
    "X_train, X_test, y_train, y_test = train_test_split(X_standardized, y, test_size=0.2, shuffle=False)\n",
    "\n",
    "# Train the Ridge regression model\n",
    "ridge_model = Ridge()\n",
    "ridge_model.fit(X_train, y_train)\n",
    "\n",
    "# Predict on the training data\n",
    "y_train_pred = ridge_model.predict(X_train)\n",
    "\n",
    "# Calculate the training MSE\n",
    "training_mse = mean_squared_error(y_train, y_train_pred)\n",
    "print(f\"The training MSE of the Ridge model is: {training_mse}\")\n"
   ]
  },
  {
   "cell_type": "code",
   "execution_count": 22,
   "metadata": {},
   "outputs": [
    {
     "name": "stdout",
     "output_type": "stream",
     "text": [
      "The training MSE of the LASSO model is: 0.04695493921820656\n"
     ]
    }
   ],
   "source": [
    "import pandas as pd\n",
    "from sklearn.model_selection import train_test_split\n",
    "from sklearn.preprocessing import StandardScaler\n",
    "from sklearn.linear_model import Lasso\n",
    "from sklearn.metrics import mean_squared_error\n",
    "\n",
    "# Load the dataset\n",
    "file_path = r'C:\\Users\\Buma\\Desktop\\Alx\\rand-dollar.csv'\n",
    "df = pd.read_csv(file_path, index_col=0)\n",
    "\n",
    "# Separate features (X) and target (y)\n",
    "X = df.drop(columns='ZAR/USD')\n",
    "y = df['ZAR/USD']\n",
    "\n",
    "# Standardize the features\n",
    "scaler = StandardScaler()\n",
    "X_standardized = scaler.fit_transform(X)\n",
    "\n",
    "# Create train/test split (chronological 80/20 split)\n",
    "X_train, X_test, y_train, y_test = train_test_split(X_standardized, y, test_size=0.2, shuffle=False)\n",
    "\n",
    "# Train the LASSO regression model with alpha=0.01\n",
    "lasso_model = Lasso(alpha=0.01)\n",
    "lasso_model.fit(X_train, y_train)\n",
    "\n",
    "# Predict on the training data\n",
    "y_train_pred_lasso = lasso_model.predict(X_train)\n",
    "\n",
    "# Calculate the training MSE\n",
    "training_mse_lasso = mean_squared_error(y_train, y_train_pred_lasso)\n",
    "print(f\"The training MSE of the LASSO model is: {training_mse_lasso}\")\n"
   ]
  },
  {
   "cell_type": "code",
   "execution_count": 23,
   "metadata": {},
   "outputs": [
    {
     "name": "stdout",
     "output_type": "stream",
     "text": [
      "The testing MSE of the Ridge model is: 0.6323866944567466\n"
     ]
    }
   ],
   "source": [
    "import pandas as pd\n",
    "from sklearn.model_selection import train_test_split\n",
    "from sklearn.preprocessing import StandardScaler\n",
    "from sklearn.linear_model import Ridge\n",
    "from sklearn.metrics import mean_squared_error\n",
    "\n",
    "# Load the dataset\n",
    "file_path = r'C:\\Users\\Buma\\Desktop\\Alx\\rand-dollar.csv'\n",
    "df = pd.read_csv(file_path, index_col=0)\n",
    "\n",
    "# Separate features (X) and target (y)\n",
    "X = df.drop(columns='ZAR/USD')\n",
    "y = df['ZAR/USD']\n",
    "\n",
    "# Standardize the features\n",
    "scaler = StandardScaler()\n",
    "X_standardized = scaler.fit_transform(X)\n",
    "\n",
    "# Create train/test split (chronological 80/20 split)\n",
    "X_train, X_test, y_train, y_test = train_test_split(X_standardized, y, test_size=0.2, shuffle=False)\n",
    "\n",
    "# Train the Ridge regression model\n",
    "ridge_model = Ridge()\n",
    "ridge_model.fit(X_train, y_train)\n",
    "\n",
    "# Predict on the test data\n",
    "y_test_pred = ridge_model.predict(X_test)\n",
    "\n",
    "# Calculate the testing MSE\n",
    "testing_mse = mean_squared_error(y_test, y_test_pred)\n",
    "print(f\"The testing MSE of the Ridge model is: {testing_mse}\")\n"
   ]
  },
  {
   "cell_type": "code",
   "execution_count": 24,
   "metadata": {},
   "outputs": [
    {
     "name": "stdout",
     "output_type": "stream",
     "text": [
      "The testing MSE of the LASSO model is: 0.5790226574339904\n"
     ]
    }
   ],
   "source": [
    "import pandas as pd\n",
    "from sklearn.model_selection import train_test_split\n",
    "from sklearn.preprocessing import StandardScaler\n",
    "from sklearn.linear_model import Lasso\n",
    "from sklearn.metrics import mean_squared_error\n",
    "\n",
    "# Load the dataset\n",
    "file_path = r'C:\\Users\\Buma\\Desktop\\Alx\\rand-dollar.csv'\n",
    "df = pd.read_csv(file_path, index_col=0)\n",
    "\n",
    "# Separate features (X) and target (y)\n",
    "X = df.drop(columns='ZAR/USD')\n",
    "y = df['ZAR/USD']\n",
    "\n",
    "# Standardize the features\n",
    "scaler = StandardScaler()\n",
    "X_standardized = scaler.fit_transform(X)\n",
    "\n",
    "# Create train/test split (chronological 80/20 split)\n",
    "X_train, X_test, y_train, y_test = train_test_split(X_standardized, y, test_size=0.2, shuffle=False)\n",
    "\n",
    "# Train the LASSO regression model with alpha=0.01\n",
    "lasso_model = Lasso(alpha=0.01)\n",
    "lasso_model.fit(X_train, y_train)\n",
    "\n",
    "# Predict on the test data\n",
    "y_test_pred_lasso = lasso_model.predict(X_test)\n",
    "\n",
    "# Calculate the testing MSE\n",
    "testing_mse_lasso = mean_squared_error(y_test, y_test_pred_lasso)\n",
    "print(f\"The testing MSE of the LASSO model is: {testing_mse_lasso}\")\n"
   ]
  },
  {
   "cell_type": "code",
   "execution_count": 25,
   "metadata": {},
   "outputs": [
    {
     "name": "stdout",
     "output_type": "stream",
     "text": [
      "                                    Feature  Coefficient\n",
      "1                    Value of Exports (ZAR)     1.061183\n",
      "3                    Value of Imports (ZAR)     1.002528\n",
      "2                    Value of Imports (USD)    -0.736367\n",
      "12                     Consumer Price Index     0.630804\n",
      "0                    Value of Exports (USD)    -0.578656\n",
      "9                              Lending Rate     0.525606\n",
      "5                    Foreign Exchange (USD)     0.155625\n",
      "11  Financial Market Prices, Equities Index    -0.112937\n",
      "8                              Savings Rate    -0.087518\n",
      "6             Claims on Non-residents (USD)     0.068125\n",
      "4                IMF Reserve Position (USD)     0.020487\n",
      "10                         Government Bonds     0.018772\n",
      "7        Liabilities to Non-residents (USD)     0.005712\n"
     ]
    }
   ],
   "source": [
    "import pandas as pd\n",
    "from sklearn.model_selection import train_test_split\n",
    "from sklearn.preprocessing import StandardScaler\n",
    "from sklearn.linear_model import Ridge\n",
    "\n",
    "# Load the dataset\n",
    "file_path = r'C:\\Users\\Buma\\Desktop\\Alx\\rand-dollar.csv'\n",
    "df = pd.read_csv(file_path, index_col=0)\n",
    "\n",
    "# Separate features (X) and target (y)\n",
    "X = df.drop(columns='ZAR/USD')\n",
    "y = df['ZAR/USD']\n",
    "\n",
    "# Standardize the features\n",
    "scaler = StandardScaler()\n",
    "X_standardized = scaler.fit_transform(X)\n",
    "\n",
    "# Create train/test split (chronological 80/20 split)\n",
    "X_train, X_test, y_train, y_test = train_test_split(X_standardized, y, test_size=0.2, shuffle=False)\n",
    "\n",
    "# Train the Ridge regression model\n",
    "ridge_model = Ridge()\n",
    "ridge_model.fit(X_train, y_train)\n",
    "\n",
    "# Extract the coefficients\n",
    "coefficients = ridge_model.coef_\n",
    "\n",
    "# Create a DataFrame to view the coefficients\n",
    "coefficients_df = pd.DataFrame({\n",
    "    'Feature': X.columns,\n",
    "    'Coefficient': coefficients\n",
    "}).sort_values(by='Coefficient', key=abs, ascending=False)\n",
    "\n",
    "print(coefficients_df)\n"
   ]
  },
  {
   "cell_type": "code",
   "execution_count": 26,
   "metadata": {},
   "outputs": [
    {
     "name": "stdout",
     "output_type": "stream",
     "text": [
      "                                    Feature  Coefficient\n",
      "7        Liabilities to Non-residents (USD)     0.005712\n",
      "10                         Government Bonds     0.018772\n",
      "4                IMF Reserve Position (USD)     0.020487\n",
      "6             Claims on Non-residents (USD)     0.068125\n",
      "8                              Savings Rate    -0.087518\n",
      "11  Financial Market Prices, Equities Index    -0.112937\n",
      "5                    Foreign Exchange (USD)     0.155625\n",
      "9                              Lending Rate     0.525606\n",
      "0                    Value of Exports (USD)    -0.578656\n",
      "12                     Consumer Price Index     0.630804\n",
      "2                    Value of Imports (USD)    -0.736367\n",
      "3                    Value of Imports (ZAR)     1.002528\n",
      "1                    Value of Exports (ZAR)     1.061183\n"
     ]
    }
   ],
   "source": [
    "import pandas as pd\n",
    "from sklearn.model_selection import train_test_split\n",
    "from sklearn.preprocessing import StandardScaler\n",
    "from sklearn.linear_model import Ridge\n",
    "\n",
    "# Load the dataset\n",
    "file_path = r'C:\\Users\\Buma\\Desktop\\Alx\\rand-dollar.csv'\n",
    "df = pd.read_csv(file_path, index_col=0)\n",
    "\n",
    "# Separate features (X) and target (y)\n",
    "X = df.drop(columns='ZAR/USD')\n",
    "y = df['ZAR/USD']\n",
    "\n",
    "# Standardize the features\n",
    "scaler = StandardScaler()\n",
    "X_standardized = scaler.fit_transform(X)\n",
    "\n",
    "# Create train/test split (chronological 80/20 split)\n",
    "X_train, X_test, y_train, y_test = train_test_split(X_standardized, y, test_size=0.2, shuffle=False)\n",
    "\n",
    "# Train the Ridge regression model\n",
    "ridge_model = Ridge()\n",
    "ridge_model.fit(X_train, y_train)\n",
    "\n",
    "# Extract the coefficients\n",
    "coefficients = ridge_model.coef_\n",
    "\n",
    "# Create a DataFrame to view the coefficients\n",
    "coefficients_df = pd.DataFrame({\n",
    "    'Feature': X.columns,\n",
    "    'Coefficient': coefficients\n",
    "}).sort_values(by='Coefficient', key=abs)\n",
    "\n",
    "print(coefficients_df)\n"
   ]
  },
  {
   "cell_type": "code",
   "execution_count": 27,
   "metadata": {},
   "outputs": [
    {
     "name": "stdout",
     "output_type": "stream",
     "text": [
      "                                    Feature  Coefficient\n",
      "3                    Value of Imports (ZAR)     1.171819\n",
      "1                    Value of Exports (ZAR)     1.135450\n",
      "2                    Value of Imports (USD)    -0.816718\n",
      "0                    Value of Exports (USD)    -0.577647\n",
      "12                     Consumer Price Index     0.239314\n",
      "9                              Lending Rate     0.209855\n",
      "5                    Foreign Exchange (USD)     0.080232\n",
      "11  Financial Market Prices, Equities Index    -0.030944\n",
      "7        Liabilities to Non-residents (USD)     0.030399\n",
      "4                IMF Reserve Position (USD)     0.000000\n",
      "6             Claims on Non-residents (USD)     0.000000\n",
      "8                              Savings Rate     0.000000\n",
      "10                         Government Bonds    -0.000000\n"
     ]
    }
   ],
   "source": [
    "import pandas as pd\n",
    "from sklearn.model_selection import train_test_split\n",
    "from sklearn.preprocessing import StandardScaler\n",
    "from sklearn.linear_model import Lasso\n",
    "\n",
    "# Load the dataset\n",
    "file_path = r'C:\\Users\\Buma\\Desktop\\Alx\\rand-dollar.csv'\n",
    "df = pd.read_csv(file_path, index_col=0)\n",
    "\n",
    "# Separate features (X) and target (y)\n",
    "X = df.drop(columns='ZAR/USD')\n",
    "y = df['ZAR/USD']\n",
    "\n",
    "# Standardize the features\n",
    "scaler = StandardScaler()\n",
    "X_standardized = scaler.fit_transform(X)\n",
    "\n",
    "# Create train/test split (chronological 80/20 split)\n",
    "X_train, X_test, y_train, y_test = train_test_split(X_standardized, y, test_size=0.2, shuffle=False)\n",
    "\n",
    "# Train the LASSO regression model with alpha=0.01\n",
    "lasso_model = Lasso(alpha=0.01)\n",
    "lasso_model.fit(X_train, y_train)\n",
    "\n",
    "# Extract the coefficients\n",
    "coefficients = lasso_model.coef_\n",
    "\n",
    "# Create a DataFrame to view the coefficients\n",
    "coefficients_df = pd.DataFrame({\n",
    "    'Feature': X.columns,\n",
    "    'Coefficient': coefficients\n",
    "}).sort_values(by='Coefficient', key=abs, ascending=False)\n",
    "\n",
    "print(coefficients_df)\n"
   ]
  },
  {
   "cell_type": "code",
   "execution_count": 28,
   "metadata": {},
   "outputs": [
    {
     "name": "stdout",
     "output_type": "stream",
     "text": [
      "Number of variables with coefficients equal to zero in the LASSO model: 4\n"
     ]
    }
   ],
   "source": [
    "import pandas as pd\n",
    "from sklearn.model_selection import train_test_split\n",
    "from sklearn.preprocessing import StandardScaler\n",
    "from sklearn.linear_model import Lasso\n",
    "\n",
    "# Load the dataset\n",
    "file_path = r'C:\\Users\\Buma\\Desktop\\Alx\\rand-dollar.csv'\n",
    "df = pd.read_csv(file_path, index_col=0)\n",
    "\n",
    "# Separate features (X) and target (y)\n",
    "X = df.drop(columns='ZAR/USD')\n",
    "y = df['ZAR/USD']\n",
    "\n",
    "# Standardize the features\n",
    "scaler = StandardScaler()\n",
    "X_standardized = scaler.fit_transform(X)\n",
    "\n",
    "# Create train/test split (chronological 80/20 split)\n",
    "X_train, X_test, y_train, y_test = train_test_split(X_standardized, y, test_size=0.2, shuffle=False)\n",
    "\n",
    "# Train the LASSO regression model with alpha=0.01\n",
    "lasso_model = Lasso(alpha=0.01)\n",
    "lasso_model.fit(X_train, y_train)\n",
    "\n",
    "# Extract the coefficients\n",
    "coefficients = lasso_model.coef_\n",
    "\n",
    "# Count the number of coefficients that are exactly zero\n",
    "num_zero_coefficients = (coefficients == 0).sum()\n",
    "print(f\"Number of variables with coefficients equal to zero in the LASSO model: {num_zero_coefficients}\")\n"
   ]
  },
  {
   "cell_type": "code",
   "execution_count": 29,
   "metadata": {},
   "outputs": [],
   "source": []
  }
 ],
 "metadata": {
  "kernelspec": {
   "display_name": "Python 3",
   "language": "python",
   "name": "python3"
  },
  "language_info": {
   "codemirror_mode": {
    "name": "ipython",
    "version": 3
   },
   "file_extension": ".py",
   "mimetype": "text/x-python",
   "name": "python",
   "nbconvert_exporter": "python",
   "pygments_lexer": "ipython3",
   "version": "3.12.0"
  }
 },
 "nbformat": 4,
 "nbformat_minor": 2
}
